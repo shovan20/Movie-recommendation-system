{
  "nbformat": 4,
  "nbformat_minor": 0,
  "metadata": {
    "colab": {
      "name": "movie_recommendation.ipynb",
      "provenance": [],
      "collapsed_sections": []
    },
    "kernelspec": {
      "name": "python3",
      "display_name": "Python 3"
    },
    "language_info": {
      "name": "python"
    }
  },
  "cells": [
    {
      "cell_type": "code",
      "metadata": {
        "id": "mgv2LoO9Fzif"
      },
      "source": [
        "#Description: Build a movie recommendation engine using python"
      ],
      "execution_count": null,
      "outputs": []
    },
    {
      "cell_type": "code",
      "metadata": {
        "id": "OqtQzkwbF_hQ"
      },
      "source": [
        "#Import the libraries\n",
        "import pandas as pd\n",
        "import numpy as np\n",
        "from sklearn.metrics.pairwise import cosine_similarity\n",
        "from sklearn.feature_extraction.text import CountVectorizer"
      ],
      "execution_count": null,
      "outputs": []
    },
    {
      "cell_type": "code",
      "metadata": {
        "colab": {
          "resources": {
            "http://localhost:8080/nbextensions/google.colab/files.js": {
              "data": "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",
              "ok": true,
              "headers": [
                [
                  "content-type",
                  "application/javascript"
                ]
              ],
              "status": 200,
              "status_text": ""
            }
          },
          "base_uri": "https://localhost:8080/",
          "height": 74
        },
        "id": "GFw5Z_l3GW3c",
        "outputId": "e4760e35-74b0-41ef-8c07-273e5cc83e7c"
      },
      "source": [
        "#Load the data\n",
        "from google.colab import files\n",
        "uploaded = files.upload()"
      ],
      "execution_count": null,
      "outputs": [
        {
          "output_type": "display_data",
          "data": {
            "text/html": [
              "\n",
              "     <input type=\"file\" id=\"files-eedb207d-cc6d-4e7e-bb54-329d34a9d881\" name=\"files[]\" multiple disabled\n",
              "        style=\"border:none\" />\n",
              "     <output id=\"result-eedb207d-cc6d-4e7e-bb54-329d34a9d881\">\n",
              "      Upload widget is only available when the cell has been executed in the\n",
              "      current browser session. Please rerun this cell to enable.\n",
              "      </output>\n",
              "      <script src=\"/nbextensions/google.colab/files.js\"></script> "
            ],
            "text/plain": [
              "<IPython.core.display.HTML object>"
            ]
          },
          "metadata": {
            "tags": []
          }
        },
        {
          "output_type": "stream",
          "text": [
            "Saving movie_data.csv to movie_data.csv\n"
          ],
          "name": "stdout"
        }
      ]
    },
    {
      "cell_type": "code",
      "metadata": {
        "colab": {
          "base_uri": "https://localhost:8080/",
          "height": 203
        },
        "id": "fK-nKPJmHgfK",
        "outputId": "30818f5e-871f-41b4-9c9a-038d462fc058"
      },
      "source": [
        "#Store the data\n",
        "df = pd.read_csv('movie_data.csv')\n",
        "df['Movie_id']=range(0,1000)\n",
        "#Show the first 3 rows of data\n",
        "df.head(3)"
      ],
      "execution_count": null,
      "outputs": [
        {
          "output_type": "execute_result",
          "data": {
            "text/html": [
              "<div>\n",
              "<style scoped>\n",
              "    .dataframe tbody tr th:only-of-type {\n",
              "        vertical-align: middle;\n",
              "    }\n",
              "\n",
              "    .dataframe tbody tr th {\n",
              "        vertical-align: top;\n",
              "    }\n",
              "\n",
              "    .dataframe thead th {\n",
              "        text-align: right;\n",
              "    }\n",
              "</style>\n",
              "<table border=\"1\" class=\"dataframe\">\n",
              "  <thead>\n",
              "    <tr style=\"text-align: right;\">\n",
              "      <th></th>\n",
              "      <th>Rank</th>\n",
              "      <th>Title</th>\n",
              "      <th>Genre</th>\n",
              "      <th>Description</th>\n",
              "      <th>Director</th>\n",
              "      <th>Actors</th>\n",
              "      <th>Year</th>\n",
              "      <th>Runtime (Minutes)</th>\n",
              "      <th>Rating</th>\n",
              "      <th>Votes</th>\n",
              "      <th>Revenue (Millions)</th>\n",
              "      <th>Metascore</th>\n",
              "      <th>Movie_id</th>\n",
              "    </tr>\n",
              "  </thead>\n",
              "  <tbody>\n",
              "    <tr>\n",
              "      <th>0</th>\n",
              "      <td>1</td>\n",
              "      <td>Guardians of the Galaxy</td>\n",
              "      <td>Action,Adventure,Sci-Fi</td>\n",
              "      <td>A group of intergalactic criminals are forced ...</td>\n",
              "      <td>James Gunn</td>\n",
              "      <td>Chris Pratt, Vin Diesel, Bradley Cooper, Zoe S...</td>\n",
              "      <td>2014</td>\n",
              "      <td>121</td>\n",
              "      <td>8.1</td>\n",
              "      <td>757074</td>\n",
              "      <td>333.13</td>\n",
              "      <td>76.0</td>\n",
              "      <td>0</td>\n",
              "    </tr>\n",
              "    <tr>\n",
              "      <th>1</th>\n",
              "      <td>2</td>\n",
              "      <td>Prometheus</td>\n",
              "      <td>Adventure,Mystery,Sci-Fi</td>\n",
              "      <td>Following clues to the origin of mankind, a te...</td>\n",
              "      <td>Ridley Scott</td>\n",
              "      <td>Noomi Rapace, Logan Marshall-Green, Michael Fa...</td>\n",
              "      <td>2012</td>\n",
              "      <td>124</td>\n",
              "      <td>7.0</td>\n",
              "      <td>485820</td>\n",
              "      <td>126.46</td>\n",
              "      <td>65.0</td>\n",
              "      <td>1</td>\n",
              "    </tr>\n",
              "    <tr>\n",
              "      <th>2</th>\n",
              "      <td>3</td>\n",
              "      <td>Split</td>\n",
              "      <td>Horror,Thriller</td>\n",
              "      <td>Three girls are kidnapped by a man with a diag...</td>\n",
              "      <td>M. Night Shyamalan</td>\n",
              "      <td>James McAvoy, Anya Taylor-Joy, Haley Lu Richar...</td>\n",
              "      <td>2016</td>\n",
              "      <td>117</td>\n",
              "      <td>7.3</td>\n",
              "      <td>157606</td>\n",
              "      <td>138.12</td>\n",
              "      <td>62.0</td>\n",
              "      <td>2</td>\n",
              "    </tr>\n",
              "  </tbody>\n",
              "</table>\n",
              "</div>"
            ],
            "text/plain": [
              "   Rank                    Title  ... Metascore Movie_id\n",
              "0     1  Guardians of the Galaxy  ...      76.0        0\n",
              "1     2               Prometheus  ...      65.0        1\n",
              "2     3                    Split  ...      62.0        2\n",
              "\n",
              "[3 rows x 13 columns]"
            ]
          },
          "metadata": {
            "tags": []
          },
          "execution_count": 7
        }
      ]
    },
    {
      "cell_type": "code",
      "metadata": {
        "colab": {
          "base_uri": "https://localhost:8080/"
        },
        "id": "Fyvz4s4dJPgR",
        "outputId": "565626d6-6a41-4873-df9d-3a6d7c22ba43"
      },
      "source": [
        "#Get a count of the number of rows/movies in the data set and the number of columns\n",
        "df.shape"
      ],
      "execution_count": null,
      "outputs": [
        {
          "output_type": "execute_result",
          "data": {
            "text/plain": [
              "(1000, 13)"
            ]
          },
          "metadata": {
            "tags": []
          },
          "execution_count": 8
        }
      ]
    },
    {
      "cell_type": "code",
      "metadata": {
        "id": "3AdNS-vkJeB4"
      },
      "source": [
        "#Create a list of important columns for the recommendation engine\n",
        "columns = ['Actors','Director','Genre','Title']"
      ],
      "execution_count": null,
      "outputs": []
    },
    {
      "cell_type": "code",
      "metadata": {
        "colab": {
          "base_uri": "https://localhost:8080/",
          "height": 136
        },
        "id": "p0sqr-rrKAVW",
        "outputId": "3a0304e4-ea5f-4fea-cf0e-691d1fdaaa5c"
      },
      "source": [
        "#Show the data\n",
        "df[columns].head(3)"
      ],
      "execution_count": null,
      "outputs": [
        {
          "output_type": "execute_result",
          "data": {
            "text/html": [
              "<div>\n",
              "<style scoped>\n",
              "    .dataframe tbody tr th:only-of-type {\n",
              "        vertical-align: middle;\n",
              "    }\n",
              "\n",
              "    .dataframe tbody tr th {\n",
              "        vertical-align: top;\n",
              "    }\n",
              "\n",
              "    .dataframe thead th {\n",
              "        text-align: right;\n",
              "    }\n",
              "</style>\n",
              "<table border=\"1\" class=\"dataframe\">\n",
              "  <thead>\n",
              "    <tr style=\"text-align: right;\">\n",
              "      <th></th>\n",
              "      <th>Actors</th>\n",
              "      <th>Director</th>\n",
              "      <th>Genre</th>\n",
              "      <th>Title</th>\n",
              "    </tr>\n",
              "  </thead>\n",
              "  <tbody>\n",
              "    <tr>\n",
              "      <th>0</th>\n",
              "      <td>Chris Pratt, Vin Diesel, Bradley Cooper, Zoe S...</td>\n",
              "      <td>James Gunn</td>\n",
              "      <td>Action,Adventure,Sci-Fi</td>\n",
              "      <td>Guardians of the Galaxy</td>\n",
              "    </tr>\n",
              "    <tr>\n",
              "      <th>1</th>\n",
              "      <td>Noomi Rapace, Logan Marshall-Green, Michael Fa...</td>\n",
              "      <td>Ridley Scott</td>\n",
              "      <td>Adventure,Mystery,Sci-Fi</td>\n",
              "      <td>Prometheus</td>\n",
              "    </tr>\n",
              "    <tr>\n",
              "      <th>2</th>\n",
              "      <td>James McAvoy, Anya Taylor-Joy, Haley Lu Richar...</td>\n",
              "      <td>M. Night Shyamalan</td>\n",
              "      <td>Horror,Thriller</td>\n",
              "      <td>Split</td>\n",
              "    </tr>\n",
              "  </tbody>\n",
              "</table>\n",
              "</div>"
            ],
            "text/plain": [
              "                                              Actors  ...                    Title\n",
              "0  Chris Pratt, Vin Diesel, Bradley Cooper, Zoe S...  ...  Guardians of the Galaxy\n",
              "1  Noomi Rapace, Logan Marshall-Green, Michael Fa...  ...               Prometheus\n",
              "2  James McAvoy, Anya Taylor-Joy, Haley Lu Richar...  ...                    Split\n",
              "\n",
              "[3 rows x 4 columns]"
            ]
          },
          "metadata": {
            "tags": []
          },
          "execution_count": 15
        }
      ]
    },
    {
      "cell_type": "code",
      "metadata": {
        "colab": {
          "base_uri": "https://localhost:8080/"
        },
        "id": "holOcb0tKrIK",
        "outputId": "f8fc51fa-ab38-42d3-adaa-ffbf50158b25"
      },
      "source": [
        "#Check for any missing values in the important columns\n",
        "df[columns].isnull().values.any()"
      ],
      "execution_count": null,
      "outputs": [
        {
          "output_type": "execute_result",
          "data": {
            "text/plain": [
              "False"
            ]
          },
          "metadata": {
            "tags": []
          },
          "execution_count": 16
        }
      ]
    },
    {
      "cell_type": "code",
      "metadata": {
        "id": "Jx4vrzdsK6_n"
      },
      "source": [
        "#create a function to combine the values of the important columns into a single string\n",
        "def get_important_features(data):\n",
        "  important_features = []\n",
        "  for i in range(0, data.shape[0]):\n",
        "    important_features.append(data['Actors'][i]+' '+data['Director'][i]+' '+data['Genre'][i]+' '+data['Title'][i])\n",
        "\n",
        "  return important_features"
      ],
      "execution_count": null,
      "outputs": []
    },
    {
      "cell_type": "code",
      "metadata": {
        "colab": {
          "base_uri": "https://localhost:8080/",
          "height": 254
        },
        "id": "-aYEgUdMRAjt",
        "outputId": "879b43ee-4b4a-4bad-e7f7-408c6b9c9d60"
      },
      "source": [
        "#Create a column to hold the combined strings\n",
        "df['important_features'] = get_important_features(df)\n",
        "\n",
        "#Show the data\n",
        "df.head(3)"
      ],
      "execution_count": null,
      "outputs": [
        {
          "output_type": "execute_result",
          "data": {
            "text/html": [
              "<div>\n",
              "<style scoped>\n",
              "    .dataframe tbody tr th:only-of-type {\n",
              "        vertical-align: middle;\n",
              "    }\n",
              "\n",
              "    .dataframe tbody tr th {\n",
              "        vertical-align: top;\n",
              "    }\n",
              "\n",
              "    .dataframe thead th {\n",
              "        text-align: right;\n",
              "    }\n",
              "</style>\n",
              "<table border=\"1\" class=\"dataframe\">\n",
              "  <thead>\n",
              "    <tr style=\"text-align: right;\">\n",
              "      <th></th>\n",
              "      <th>Rank</th>\n",
              "      <th>Title</th>\n",
              "      <th>Genre</th>\n",
              "      <th>Description</th>\n",
              "      <th>Director</th>\n",
              "      <th>Actors</th>\n",
              "      <th>Year</th>\n",
              "      <th>Runtime (Minutes)</th>\n",
              "      <th>Rating</th>\n",
              "      <th>Votes</th>\n",
              "      <th>Revenue (Millions)</th>\n",
              "      <th>Metascore</th>\n",
              "      <th>Movie_id</th>\n",
              "      <th>important_features</th>\n",
              "    </tr>\n",
              "  </thead>\n",
              "  <tbody>\n",
              "    <tr>\n",
              "      <th>0</th>\n",
              "      <td>1</td>\n",
              "      <td>Guardians of the Galaxy</td>\n",
              "      <td>Action,Adventure,Sci-Fi</td>\n",
              "      <td>A group of intergalactic criminals are forced ...</td>\n",
              "      <td>James Gunn</td>\n",
              "      <td>Chris Pratt, Vin Diesel, Bradley Cooper, Zoe S...</td>\n",
              "      <td>2014</td>\n",
              "      <td>121</td>\n",
              "      <td>8.1</td>\n",
              "      <td>757074</td>\n",
              "      <td>333.13</td>\n",
              "      <td>76.0</td>\n",
              "      <td>0</td>\n",
              "      <td>Chris Pratt, Vin Diesel, Bradley Cooper, Zoe S...</td>\n",
              "    </tr>\n",
              "    <tr>\n",
              "      <th>1</th>\n",
              "      <td>2</td>\n",
              "      <td>Prometheus</td>\n",
              "      <td>Adventure,Mystery,Sci-Fi</td>\n",
              "      <td>Following clues to the origin of mankind, a te...</td>\n",
              "      <td>Ridley Scott</td>\n",
              "      <td>Noomi Rapace, Logan Marshall-Green, Michael Fa...</td>\n",
              "      <td>2012</td>\n",
              "      <td>124</td>\n",
              "      <td>7.0</td>\n",
              "      <td>485820</td>\n",
              "      <td>126.46</td>\n",
              "      <td>65.0</td>\n",
              "      <td>1</td>\n",
              "      <td>Noomi Rapace, Logan Marshall-Green, Michael Fa...</td>\n",
              "    </tr>\n",
              "    <tr>\n",
              "      <th>2</th>\n",
              "      <td>3</td>\n",
              "      <td>Split</td>\n",
              "      <td>Horror,Thriller</td>\n",
              "      <td>Three girls are kidnapped by a man with a diag...</td>\n",
              "      <td>M. Night Shyamalan</td>\n",
              "      <td>James McAvoy, Anya Taylor-Joy, Haley Lu Richar...</td>\n",
              "      <td>2016</td>\n",
              "      <td>117</td>\n",
              "      <td>7.3</td>\n",
              "      <td>157606</td>\n",
              "      <td>138.12</td>\n",
              "      <td>62.0</td>\n",
              "      <td>2</td>\n",
              "      <td>James McAvoy, Anya Taylor-Joy, Haley Lu Richar...</td>\n",
              "    </tr>\n",
              "  </tbody>\n",
              "</table>\n",
              "</div>"
            ],
            "text/plain": [
              "   Rank  ...                                 important_features\n",
              "0     1  ...  Chris Pratt, Vin Diesel, Bradley Cooper, Zoe S...\n",
              "1     2  ...  Noomi Rapace, Logan Marshall-Green, Michael Fa...\n",
              "2     3  ...  James McAvoy, Anya Taylor-Joy, Haley Lu Richar...\n",
              "\n",
              "[3 rows x 14 columns]"
            ]
          },
          "metadata": {
            "tags": []
          },
          "execution_count": 23
        }
      ]
    },
    {
      "cell_type": "code",
      "metadata": {
        "id": "C7IVJ5vKeoe6"
      },
      "source": [
        "#convert the text to a matrix of token counts\n",
        "cm = CountVectorizer().fit_transform(df['important_features'])"
      ],
      "execution_count": null,
      "outputs": []
    },
    {
      "cell_type": "code",
      "metadata": {
        "colab": {
          "base_uri": "https://localhost:8080/"
        },
        "id": "NH4nGSVDe_be",
        "outputId": "5a10b532-15b3-4d9e-86b0-9ae4f12f1ccb"
      },
      "source": [
        "#Get the cosine similarity matrix from the count matrix\n",
        "cs = cosine_similarity(cm)\n",
        "#Print the cosine similarity matrix\n",
        "print(cs)"
      ],
      "execution_count": null,
      "outputs": [
        {
          "output_type": "stream",
          "text": [
            "[[1.         0.1767767  0.06085806 ... 0.0571662  0.06537205 0.        ]\n",
            " [0.1767767  1.         0.         ... 0.         0.06933752 0.        ]\n",
            " [0.06085806 0.         1.         ... 0.         0.         0.        ]\n",
            " ...\n",
            " [0.0571662  0.         0.         ... 1.         0.06726728 0.        ]\n",
            " [0.06537205 0.06933752 0.         ... 0.06726728 1.         0.07161149]\n",
            " [0.         0.         0.         ... 0.         0.07161149 1.        ]]\n"
          ],
          "name": "stdout"
        }
      ]
    },
    {
      "cell_type": "code",
      "metadata": {
        "colab": {
          "base_uri": "https://localhost:8080/"
        },
        "id": "znDuKnocfOWQ",
        "outputId": "ded9b9a9-26f7-4b68-b2ba-d6030b3ecff2"
      },
      "source": [
        "#Get the shape of the cosine similarity matrix\n",
        "cs.shape"
      ],
      "execution_count": null,
      "outputs": [
        {
          "output_type": "execute_result",
          "data": {
            "text/plain": [
              "(1000, 1000)"
            ]
          },
          "metadata": {
            "tags": []
          },
          "execution_count": 26
        }
      ]
    },
    {
      "cell_type": "code",
      "metadata": {
        "id": "aaQ3QZcWgtEV"
      },
      "source": [
        "#Get the title of the movie that the user likes\n",
        "title = 'Cars'\n",
        "\n",
        "#Find the movies id\n",
        "movie_id = df[df.Title == title]['Movie_id'].values[0]"
      ],
      "execution_count": null,
      "outputs": []
    },
    {
      "cell_type": "code",
      "metadata": {
        "id": "Zwpri95dhkom"
      },
      "source": [
        "#Create a list of enumerations for the similarity score [ (movie_id, similarity score), (...) ]\n",
        "scores = list(enumerate(cs[movie_id]))"
      ],
      "execution_count": null,
      "outputs": []
    },
    {
      "cell_type": "code",
      "metadata": {
        "id": "PDYnCaPbkLGE"
      },
      "source": [
        "#Sort the list\n",
        "sorted_scores = sorted(scores, key = lambda x:x[1], reverse = True)\n",
        "sorted_scores = sorted_scores[1:]"
      ],
      "execution_count": null,
      "outputs": []
    },
    {
      "cell_type": "code",
      "metadata": {
        "colab": {
          "base_uri": "https://localhost:8080/"
        },
        "id": "czYa3GuvkqBW",
        "outputId": "2bd6f54b-7e89-40d7-8f3e-4d22dc414438"
      },
      "source": [
        "#Print the sorted scores\n",
        "print(sorted_scores)"
      ],
      "execution_count": null,
      "outputs": [
        {
          "output_type": "stream",
          "text": [
            "[(775, 0.75), (629, 0.3061862178478973), (730, 0.2773500981126146), (843, 0.2727723627949905), (242, 0.2672612419124244), (499, 0.2672612419124244), (834, 0.2672612419124244), (412, 0.2581988897471611), (104, 0.25), (305, 0.25), (563, 0.25), (15, 0.24253562503633297), (296, 0.24253562503633297), (712, 0.24253562503633297), (447, 0.23570226039551587), (846, 0.20801257358446093), (13, 0.2004459314343183), (30, 0.2004459314343183), (74, 0.2004459314343183), (174, 0.2004459314343183), (288, 0.2004459314343183), (330, 0.2004459314343183), (407, 0.2004459314343183), (409, 0.2004459314343183), (589, 0.2004459314343183), (883, 0.2004459314343183), (313, 0.19611613513818404), (23, 0.19364916731037082), (40, 0.19364916731037082), (119, 0.19364916731037082), (179, 0.19364916731037082), (241, 0.19364916731037082), (274, 0.19364916731037082), (403, 0.19364916731037082), (559, 0.19364916731037082), (597, 0.19364916731037082), (663, 0.19364916731037082), (688, 0.19364916731037082), (707, 0.19364916731037082), (728, 0.19364916731037082), (731, 0.19364916731037082), (755, 0.19364916731037082), (797, 0.19364916731037082), (897, 0.19364916731037082), (923, 0.19364916731037082), (131, 0.1875), (345, 0.1875), (349, 0.1875), (431, 0.1875), (537, 0.1875), (791, 0.1875), (814, 0.1875), (65, 0.18190171877724973), (238, 0.18190171877724973), (378, 0.18190171877724973), (171, 0.1767766952966369), (253, 0.1767766952966369), (384, 0.1767766952966369), (837, 0.1767766952966369), (43, 0.1720618004029213), (50, 0.1720618004029213), (110, 0.1720618004029213), (609, 0.1720618004029213), (518, 0.16770509831248423), (953, 0.16770509831248423), (264, 0.1636634176769943), (558, 0.1636634176769943), (935, 0.1636634176769943), (739, 0.1599005372667078), (911, 0.1599005372667078), (314, 0.1563858105428061), (619, 0.1563858105428061), (244, 0.15309310892394865), (767, 0.15309310892394865), (176, 0.15000000000000002), (208, 0.1386750490563073), (255, 0.1386750490563073), (284, 0.1386750490563073), (360, 0.1386750490563073), (421, 0.1386750490563073), (631, 0.1386750490563073), (637, 0.1386750490563073), (646, 0.1386750490563073), (678, 0.1386750490563073), (740, 0.1386750490563073), (804, 0.1386750490563073), (937, 0.1386750490563073), (966, 0.1386750490563073), (998, 0.1386750490563073), (3, 0.1336306209562122), (26, 0.1336306209562122), (79, 0.1336306209562122), (106, 0.1336306209562122), (248, 0.1336306209562122), (352, 0.1336306209562122), (363, 0.1336306209562122), (400, 0.1336306209562122), (411, 0.1336306209562122), (442, 0.1336306209562122), (444, 0.1336306209562122), (448, 0.1336306209562122), (464, 0.1336306209562122), (482, 0.1336306209562122), (486, 0.1336306209562122), (571, 0.1336306209562122), (599, 0.1336306209562122), (634, 0.1336306209562122), (635, 0.1336306209562122), (642, 0.1336306209562122), (699, 0.1336306209562122), (778, 0.1336306209562122), (802, 0.1336306209562122), (946, 0.1336306209562122), (951, 0.1336306209562122), (33, 0.12909944487358055), (150, 0.12909944487358055), (172, 0.12909944487358055), (178, 0.12909944487358055), (217, 0.12909944487358055), (226, 0.12909944487358055), (239, 0.12909944487358055), (254, 0.12909944487358055), (298, 0.12909944487358055), (303, 0.12909944487358055), (318, 0.12909944487358055), (359, 0.12909944487358055), (379, 0.12909944487358055), (439, 0.12909944487358055), (456, 0.12909944487358055), (472, 0.12909944487358055), (484, 0.12909944487358055), (485, 0.12909944487358055), (512, 0.12909944487358055), (513, 0.12909944487358055), (572, 0.12909944487358055), (627, 0.12909944487358055), (693, 0.12909944487358055), (715, 0.12909944487358055), (727, 0.12909944487358055), (788, 0.12909944487358055), (805, 0.12909944487358055), (810, 0.12909944487358055), (833, 0.12909944487358055), (855, 0.12909944487358055), (876, 0.12909944487358055), (898, 0.12909944487358055), (929, 0.12909944487358055), (5, 0.125), (38, 0.125), (39, 0.125), (95, 0.125), (102, 0.125), (125, 0.125), (129, 0.125), (142, 0.125), (249, 0.125), (281, 0.125), (297, 0.125), (309, 0.125), (358, 0.125), (368, 0.125), (389, 0.125), (427, 0.125), (469, 0.125), (475, 0.125), (480, 0.125), (489, 0.125), (527, 0.125), (529, 0.125), (555, 0.125), (570, 0.125), (581, 0.125), (593, 0.125), (603, 0.125), (661, 0.125), (672, 0.125), (758, 0.125), (819, 0.125), (854, 0.125), (934, 0.125), (969, 0.125), (985, 0.125), (993, 0.125), (8, 0.12126781251816648), (107, 0.12126781251816648), (151, 0.12126781251816648), (166, 0.12126781251816648), (197, 0.12126781251816648), (214, 0.12126781251816648), (224, 0.12126781251816648), (235, 0.12126781251816648), (271, 0.12126781251816648), (273, 0.12126781251816648), (286, 0.12126781251816648), (291, 0.12126781251816648), (310, 0.12126781251816648), (388, 0.12126781251816648), (396, 0.12126781251816648), (491, 0.12126781251816648), (496, 0.12126781251816648), (550, 0.12126781251816648), (575, 0.12126781251816648), (626, 0.12126781251816648), (628, 0.12126781251816648), (657, 0.12126781251816648), (714, 0.12126781251816648), (762, 0.12126781251816648), (793, 0.12126781251816648), (799, 0.12126781251816648), (807, 0.12126781251816648), (879, 0.12126781251816648), (916, 0.12126781251816648), (917, 0.12126781251816648), (919, 0.12126781251816648), (941, 0.12126781251816648), (967, 0.12126781251816648), (0, 0.11785113019775793), (82, 0.11785113019775793), (146, 0.11785113019775793), (234, 0.11785113019775793), (279, 0.11785113019775793), (302, 0.11785113019775793), (316, 0.11785113019775793), (325, 0.11785113019775793), (440, 0.11785113019775793), (564, 0.11785113019775793), (568, 0.11785113019775793), (667, 0.11785113019775793), (674, 0.11785113019775793), (773, 0.11785113019775793), (821, 0.11785113019775793), (827, 0.11785113019775793), (864, 0.11785113019775793), (881, 0.11785113019775793), (903, 0.11785113019775793), (975, 0.11785113019775793), (990, 0.11785113019775793), (34, 0.11470786693528087), (122, 0.11470786693528087), (158, 0.11470786693528087), (195, 0.11470786693528087), (216, 0.11470786693528087), (306, 0.11470786693528087), (366, 0.11470786693528087), (465, 0.11470786693528087), (560, 0.11470786693528087), (604, 0.11470786693528087), (710, 0.11470786693528087), (772, 0.11470786693528087), (893, 0.11470786693528087), (921, 0.11470786693528087), (925, 0.11470786693528087), (952, 0.11470786693528087), (45, 0.11180339887498948), (62, 0.11180339887498948), (75, 0.11180339887498948), (78, 0.11180339887498948), (114, 0.11180339887498948), (118, 0.11180339887498948), (299, 0.11180339887498948), (418, 0.11180339887498948), (473, 0.11180339887498948), (566, 0.11180339887498948), (784, 0.11180339887498948), (822, 0.11180339887498948), (978, 0.11180339887498948), (135, 0.1091089451179962), (209, 0.1091089451179962), (223, 0.1091089451179962), (260, 0.1091089451179962), (408, 0.1091089451179962), (510, 0.1091089451179962), (578, 0.1091089451179962), (680, 0.1091089451179962), (891, 0.1091089451179962), (327, 0.10660035817780521), (806, 0.10660035817780521), (862, 0.10660035817780521), (950, 0.10660035817780521), (308, 0.10425720702853739), (632, 0.10425720702853739), (380, 0.10206207261596577), (745, 0.10206207261596577), (257, 0.1), (613, 0.09805806756909202), (7, 0.07216878364870323), (133, 0.07216878364870323), (269, 0.07216878364870323), (430, 0.07216878364870323), (457, 0.07216878364870323), (719, 0.07216878364870323), (790, 0.07216878364870323), (863, 0.07216878364870323), (28, 0.06933752452815364), (115, 0.06933752452815364), (148, 0.06933752452815364), (207, 0.06933752452815364), (317, 0.06933752452815364), (394, 0.06933752452815364), (397, 0.06933752452815364), (437, 0.06933752452815364), (441, 0.06933752452815364), (544, 0.06933752452815364), (605, 0.06933752452815364), (606, 0.06933752452815364), (659, 0.06933752452815364), (722, 0.06933752452815364), (816, 0.06933752452815364), (829, 0.06933752452815364), (845, 0.06933752452815364), (890, 0.06933752452815364), (928, 0.06933752452815364), (932, 0.06933752452815364), (977, 0.06933752452815364), (994, 0.06933752452815364), (9, 0.0668153104781061), (47, 0.0668153104781061), (49, 0.0668153104781061), (52, 0.0668153104781061), (55, 0.0668153104781061), (66, 0.0668153104781061), (81, 0.0668153104781061), (87, 0.0668153104781061), (89, 0.0668153104781061), (91, 0.0668153104781061), (92, 0.0668153104781061), (100, 0.0668153104781061), (101, 0.0668153104781061), (127, 0.0668153104781061), (134, 0.0668153104781061), (149, 0.0668153104781061), (169, 0.0668153104781061), (175, 0.0668153104781061), (189, 0.0668153104781061), (204, 0.0668153104781061), (228, 0.0668153104781061), (256, 0.0668153104781061), (266, 0.0668153104781061), (270, 0.0668153104781061), (275, 0.0668153104781061), (278, 0.0668153104781061), (293, 0.0668153104781061), (295, 0.0668153104781061), (312, 0.0668153104781061), (322, 0.0668153104781061), (339, 0.0668153104781061), (346, 0.0668153104781061), (348, 0.0668153104781061), (364, 0.0668153104781061), (382, 0.0668153104781061), (386, 0.0668153104781061), (390, 0.0668153104781061), (399, 0.0668153104781061), (401, 0.0668153104781061), (413, 0.0668153104781061), (416, 0.0668153104781061), (435, 0.0668153104781061), (443, 0.0668153104781061), (451, 0.0668153104781061), (483, 0.0668153104781061), (488, 0.0668153104781061), (503, 0.0668153104781061), (508, 0.0668153104781061), (515, 0.0668153104781061), (524, 0.0668153104781061), (565, 0.0668153104781061), (582, 0.0668153104781061), (587, 0.0668153104781061), (611, 0.0668153104781061), (620, 0.0668153104781061), (623, 0.0668153104781061), (639, 0.0668153104781061), (652, 0.0668153104781061), (654, 0.0668153104781061), (675, 0.0668153104781061), (703, 0.0668153104781061), (716, 0.0668153104781061), (718, 0.0668153104781061), (729, 0.0668153104781061), (734, 0.0668153104781061), (765, 0.0668153104781061), (783, 0.0668153104781061), (786, 0.0668153104781061), (801, 0.0668153104781061), (851, 0.0668153104781061), (856, 0.0668153104781061), (899, 0.0668153104781061), (902, 0.0668153104781061), (920, 0.0668153104781061), (930, 0.0668153104781061), (956, 0.0668153104781061), (981, 0.0668153104781061), (984, 0.0668153104781061), (4, 0.06454972243679027), (14, 0.06454972243679027), (17, 0.06454972243679027), (20, 0.06454972243679027), (21, 0.06454972243679027), (29, 0.06454972243679027), (36, 0.06454972243679027), (46, 0.06454972243679027), (53, 0.06454972243679027), (58, 0.06454972243679027), (77, 0.06454972243679027), (84, 0.06454972243679027), (93, 0.06454972243679027), (99, 0.06454972243679027), (121, 0.06454972243679027), (128, 0.06454972243679027), (137, 0.06454972243679027), (139, 0.06454972243679027), (140, 0.06454972243679027), (147, 0.06454972243679027), (159, 0.06454972243679027), (161, 0.06454972243679027), (164, 0.06454972243679027), (210, 0.06454972243679027), (212, 0.06454972243679027), (227, 0.06454972243679027), (232, 0.06454972243679027), (237, 0.06454972243679027), (247, 0.06454972243679027), (250, 0.06454972243679027), (292, 0.06454972243679027), (319, 0.06454972243679027), (324, 0.06454972243679027), (340, 0.06454972243679027), (341, 0.06454972243679027), (344, 0.06454972243679027), (353, 0.06454972243679027), (354, 0.06454972243679027), (355, 0.06454972243679027), (356, 0.06454972243679027), (369, 0.06454972243679027), (385, 0.06454972243679027), (391, 0.06454972243679027), (393, 0.06454972243679027), (398, 0.06454972243679027), (415, 0.06454972243679027), (521, 0.06454972243679027), (530, 0.06454972243679027), (540, 0.06454972243679027), (567, 0.06454972243679027), (573, 0.06454972243679027), (577, 0.06454972243679027), (580, 0.06454972243679027), (588, 0.06454972243679027), (592, 0.06454972243679027), (594, 0.06454972243679027), (616, 0.06454972243679027), (618, 0.06454972243679027), (625, 0.06454972243679027), (641, 0.06454972243679027), (649, 0.06454972243679027), (668, 0.06454972243679027), (669, 0.06454972243679027), (682, 0.06454972243679027), (687, 0.06454972243679027), (694, 0.06454972243679027), (702, 0.06454972243679027), (709, 0.06454972243679027), (717, 0.06454972243679027), (721, 0.06454972243679027), (726, 0.06454972243679027), (735, 0.06454972243679027), (736, 0.06454972243679027), (743, 0.06454972243679027), (752, 0.06454972243679027), (753, 0.06454972243679027), (759, 0.06454972243679027), (771, 0.06454972243679027), (787, 0.06454972243679027), (795, 0.06454972243679027), (796, 0.06454972243679027), (815, 0.06454972243679027), (817, 0.06454972243679027), (880, 0.06454972243679027), (888, 0.06454972243679027), (895, 0.06454972243679027), (908, 0.06454972243679027), (922, 0.06454972243679027), (943, 0.06454972243679027), (949, 0.06454972243679027), (955, 0.06454972243679027), (970, 0.06454972243679027), (983, 0.06454972243679027), (999, 0.06454972243679027), (1, 0.0625), (12, 0.0625), (32, 0.0625), (42, 0.0625), (51, 0.0625), (54, 0.0625), (64, 0.0625), (70, 0.0625), (76, 0.0625), (80, 0.0625), (97, 0.0625), (116, 0.0625), (124, 0.0625), (141, 0.0625), (157, 0.0625), (168, 0.0625), (190, 0.0625), (198, 0.0625), (199, 0.0625), (205, 0.0625), (219, 0.0625), (220, 0.0625), (231, 0.0625), (262, 0.0625), (272, 0.0625), (276, 0.0625), (283, 0.0625), (287, 0.0625), (294, 0.0625), (300, 0.0625), (343, 0.0625), (374, 0.0625), (387, 0.0625), (404, 0.0625), (405, 0.0625), (414, 0.0625), (432, 0.0625), (436, 0.0625), (445, 0.0625), (454, 0.0625), (458, 0.0625), (461, 0.0625), (481, 0.0625), (514, 0.0625), (523, 0.0625), (528, 0.0625), (552, 0.0625), (553, 0.0625), (576, 0.0625), (607, 0.0625), (612, 0.0625), (630, 0.0625), (660, 0.0625), (673, 0.0625), (677, 0.0625), (685, 0.0625), (705, 0.0625), (724, 0.0625), (725, 0.0625), (733, 0.0625), (747, 0.0625), (748, 0.0625), (764, 0.0625), (770, 0.0625), (774, 0.0625), (818, 0.0625), (835, 0.0625), (840, 0.0625), (858, 0.0625), (861, 0.0625), (869, 0.0625), (886, 0.0625), (887, 0.0625), (901, 0.0625), (912, 0.0625), (924, 0.0625), (927, 0.0625), (936, 0.0625), (940, 0.0625), (954, 0.0625), (959, 0.0625), (972, 0.0625), (979, 0.0625), (6, 0.06063390625908324), (24, 0.06063390625908324), (37, 0.06063390625908324), (48, 0.06063390625908324), (85, 0.06063390625908324), (88, 0.06063390625908324), (96, 0.06063390625908324), (112, 0.06063390625908324), (154, 0.06063390625908324), (180, 0.06063390625908324), (200, 0.06063390625908324), (203, 0.06063390625908324), (215, 0.06063390625908324), (233, 0.06063390625908324), (246, 0.06063390625908324), (268, 0.06063390625908324), (304, 0.06063390625908324), (326, 0.06063390625908324), (336, 0.06063390625908324), (338, 0.06063390625908324), (357, 0.06063390625908324), (362, 0.06063390625908324), (367, 0.06063390625908324), (433, 0.06063390625908324), (450, 0.06063390625908324), (516, 0.06063390625908324), (525, 0.06063390625908324), (547, 0.06063390625908324), (690, 0.06063390625908324), (698, 0.06063390625908324), (701, 0.06063390625908324), (706, 0.06063390625908324), (711, 0.06063390625908324), (732, 0.06063390625908324), (779, 0.06063390625908324), (785, 0.06063390625908324), (792, 0.06063390625908324), (798, 0.06063390625908324), (852, 0.06063390625908324), (870, 0.06063390625908324), (878, 0.06063390625908324), (900, 0.06063390625908324), (938, 0.06063390625908324), (962, 0.06063390625908324), (982, 0.06063390625908324), (992, 0.06063390625908324), (997, 0.06063390625908324), (25, 0.05892556509887897), (61, 0.05892556509887897), (67, 0.05892556509887897), (126, 0.05892556509887897), (132, 0.05892556509887897), (155, 0.05892556509887897), (163, 0.05892556509887897), (181, 0.05892556509887897), (243, 0.05892556509887897), (371, 0.05892556509887897), (395, 0.05892556509887897), (438, 0.05892556509887897), (474, 0.05892556509887897), (494, 0.05892556509887897), (535, 0.05892556509887897), (556, 0.05892556509887897), (640, 0.05892556509887897), (696, 0.05892556509887897), (708, 0.05892556509887897), (761, 0.05892556509887897), (831, 0.05892556509887897), (867, 0.05892556509887897), (868, 0.05892556509887897), (871, 0.05892556509887897), (918, 0.05892556509887897), (939, 0.05892556509887897), (948, 0.05892556509887897), (35, 0.057353933467640436), (60, 0.057353933467640436), (120, 0.057353933467640436), (156, 0.057353933467640436), (162, 0.057353933467640436), (177, 0.057353933467640436), (425, 0.057353933467640436), (429, 0.057353933467640436), (460, 0.057353933467640436), (507, 0.057353933467640436), (681, 0.057353933467640436), (889, 0.057353933467640436), (906, 0.057353933467640436), (961, 0.057353933467640436), (10, 0.05590169943749474), (476, 0.05590169943749474), (500, 0.05590169943749474), (546, 0.05590169943749474), (583, 0.05590169943749474), (683, 0.05590169943749474), (749, 0.05590169943749474), (813, 0.05590169943749474), (874, 0.05590169943749474), (910, 0.05590169943749474), (94, 0.0545544725589981), (602, 0.0545544725589981), (679, 0.0545544725589981), (800, 0.0545544725589981), (650, 0.053300179088902604), (259, 0.05212860351426869), (614, 0.05212860351426869), (653, 0.05212860351426869), (2, 0.0), (11, 0.0), (16, 0.0), (18, 0.0), (19, 0.0), (22, 0.0), (27, 0.0), (31, 0.0), (41, 0.0), (44, 0.0), (56, 0.0), (57, 0.0), (59, 0.0), (63, 0.0), (68, 0.0), (69, 0.0), (71, 0.0), (72, 0.0), (73, 0.0), (83, 0.0), (86, 0.0), (90, 0.0), (98, 0.0), (103, 0.0), (105, 0.0), (108, 0.0), (109, 0.0), (111, 0.0), (113, 0.0), (117, 0.0), (123, 0.0), (130, 0.0), (136, 0.0), (138, 0.0), (143, 0.0), (144, 0.0), (145, 0.0), (152, 0.0), (153, 0.0), (160, 0.0), (165, 0.0), (167, 0.0), (170, 0.0), (173, 0.0), (182, 0.0), (183, 0.0), (184, 0.0), (185, 0.0), (186, 0.0), (187, 0.0), (188, 0.0), (191, 0.0), (192, 0.0), (193, 0.0), (194, 0.0), (196, 0.0), (201, 0.0), (202, 0.0), (206, 0.0), (211, 0.0), (213, 0.0), (218, 0.0), (222, 0.0), (225, 0.0), (229, 0.0), (230, 0.0), (236, 0.0), (240, 0.0), (245, 0.0), (251, 0.0), (252, 0.0), (258, 0.0), (261, 0.0), (263, 0.0), (265, 0.0), (267, 0.0), (277, 0.0), (280, 0.0), (282, 0.0), (285, 0.0), (289, 0.0), (290, 0.0), (301, 0.0), (307, 0.0), (311, 0.0), (315, 0.0), (320, 0.0), (321, 0.0), (323, 0.0), (328, 0.0), (329, 0.0), (331, 0.0), (332, 0.0), (333, 0.0), (334, 0.0), (335, 0.0), (337, 0.0), (342, 0.0), (347, 0.0), (350, 0.0), (351, 0.0), (361, 0.0), (365, 0.0), (370, 0.0), (372, 0.0), (373, 0.0), (375, 0.0), (376, 0.0), (377, 0.0), (381, 0.0), (383, 0.0), (392, 0.0), (402, 0.0), (406, 0.0), (410, 0.0), (417, 0.0), (419, 0.0), (420, 0.0), (422, 0.0), (423, 0.0), (424, 0.0), (426, 0.0), (428, 0.0), (434, 0.0), (446, 0.0), (449, 0.0), (452, 0.0), (453, 0.0), (455, 0.0), (459, 0.0), (462, 0.0), (463, 0.0), (466, 0.0), (467, 0.0), (468, 0.0), (470, 0.0), (471, 0.0), (477, 0.0), (478, 0.0), (479, 0.0), (487, 0.0), (490, 0.0), (492, 0.0), (493, 0.0), (495, 0.0), (497, 0.0), (498, 0.0), (501, 0.0), (502, 0.0), (504, 0.0), (505, 0.0), (506, 0.0), (509, 0.0), (511, 0.0), (517, 0.0), (519, 0.0), (520, 0.0), (522, 0.0), (526, 0.0), (531, 0.0), (532, 0.0), (533, 0.0), (534, 0.0), (536, 0.0), (538, 0.0), (539, 0.0), (541, 0.0), (542, 0.0), (543, 0.0), (545, 0.0), (548, 0.0), (549, 0.0), (551, 0.0), (554, 0.0), (557, 0.0), (561, 0.0), (562, 0.0), (569, 0.0), (574, 0.0), (579, 0.0), (584, 0.0), (585, 0.0), (586, 0.0), (590, 0.0), (591, 0.0), (595, 0.0), (596, 0.0), (598, 0.0), (600, 0.0), (601, 0.0), (608, 0.0), (610, 0.0), (615, 0.0), (617, 0.0), (621, 0.0), (622, 0.0), (624, 0.0), (633, 0.0), (636, 0.0), (638, 0.0), (643, 0.0), (644, 0.0), (645, 0.0), (647, 0.0), (648, 0.0), (651, 0.0), (655, 0.0), (656, 0.0), (658, 0.0), (662, 0.0), (664, 0.0), (665, 0.0), (666, 0.0), (670, 0.0), (671, 0.0), (676, 0.0), (684, 0.0), (686, 0.0), (689, 0.0), (691, 0.0), (692, 0.0), (695, 0.0), (697, 0.0), (700, 0.0), (704, 0.0), (713, 0.0), (720, 0.0), (723, 0.0), (737, 0.0), (738, 0.0), (741, 0.0), (742, 0.0), (744, 0.0), (746, 0.0), (750, 0.0), (751, 0.0), (754, 0.0), (756, 0.0), (757, 0.0), (760, 0.0), (763, 0.0), (766, 0.0), (768, 0.0), (769, 0.0), (776, 0.0), (777, 0.0), (780, 0.0), (781, 0.0), (782, 0.0), (789, 0.0), (794, 0.0), (803, 0.0), (808, 0.0), (809, 0.0), (811, 0.0), (812, 0.0), (820, 0.0), (823, 0.0), (824, 0.0), (825, 0.0), (826, 0.0), (828, 0.0), (830, 0.0), (832, 0.0), (836, 0.0), (838, 0.0), (839, 0.0), (841, 0.0), (842, 0.0), (844, 0.0), (847, 0.0), (848, 0.0), (849, 0.0), (850, 0.0), (853, 0.0), (857, 0.0), (859, 0.0), (860, 0.0), (865, 0.0), (866, 0.0), (872, 0.0), (873, 0.0), (875, 0.0), (877, 0.0), (882, 0.0), (884, 0.0), (885, 0.0), (892, 0.0), (894, 0.0), (896, 0.0), (904, 0.0), (905, 0.0), (907, 0.0), (909, 0.0), (913, 0.0), (914, 0.0), (915, 0.0), (926, 0.0), (931, 0.0), (933, 0.0), (942, 0.0), (944, 0.0), (945, 0.0), (947, 0.0), (957, 0.0), (958, 0.0), (960, 0.0), (963, 0.0), (964, 0.0), (965, 0.0), (968, 0.0), (971, 0.0), (973, 0.0), (974, 0.0), (976, 0.0), (980, 0.0), (986, 0.0), (987, 0.0), (988, 0.0), (989, 0.0), (991, 0.0), (995, 0.0), (996, 0.0)]\n"
          ],
          "name": "stdout"
        }
      ]
    },
    {
      "cell_type": "code",
      "metadata": {
        "colab": {
          "base_uri": "https://localhost:8080/"
        },
        "id": "GCRQgfNqk7Ex",
        "outputId": "3c9d07c5-549b-4d85-be88-7cc52fe9b82c"
      },
      "source": [
        "#Create a loop to print the first 7 similar movies\n",
        "j = 0\n",
        "print('The 7 most recommended movies to', title, 'are:\\n')\n",
        "for item in sorted_scores:\n",
        "  movie_title = df[df.Movie_id == item[0]]['Title'].values[0]\n",
        "  print(j+1, movie_title)\n",
        "  j=j+1\n",
        "  if j>6:\n",
        "    break"
      ],
      "execution_count": null,
      "outputs": [
        {
          "output_type": "stream",
          "text": [
            "The 7 most recommended movies to Cars are:\n",
            "\n",
            "1 Cars 2\n",
            "2 Night at the Museum: Secret of the Tomb\n",
            "3 The Internship\n",
            "4 The Princess and the Frog\n",
            "5 Rock Dog\n",
            "6 Up\n",
            "7 The Dictator\n"
          ],
          "name": "stdout"
        }
      ]
    }
  ]
}